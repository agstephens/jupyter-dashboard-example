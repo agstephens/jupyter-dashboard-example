{
 "cells": [
  {
   "cell_type": "code",
   "execution_count": 8,
   "id": "e88af736",
   "metadata": {},
   "outputs": [
    {
     "ename": "SyntaxError",
     "evalue": "invalid syntax (3973829775.py, line 1)",
     "output_type": "error",
     "traceback": [
      "\u001b[0;36m  File \u001b[0;32m\"/tmp/ipykernel_6958/3973829775.py\"\u001b[0;36m, line \u001b[0;32m1\u001b[0m\n\u001b[0;31m    ---\u001b[0m\n\u001b[0m       ^\u001b[0m\n\u001b[0;31mSyntaxError\u001b[0m\u001b[0;31m:\u001b[0m invalid syntax\n"
     ]
    }
   ],
   "source": [
    "---\n",
    "title: Finance dashboard\n",
    "description: Dashboard with financial data\n",
    "show-code: False\n",
    "params:\n",
    "    ticker: \n",
    "        input: select\n",
    "        value: TSLA\n",
    "        label: Select ticker\n",
    "        choices: [TSLA, COIN, MSFT, PLTR, SNOW, NFLX]\n",
    "---"
   ]
  },
  {
   "cell_type": "code",
   "execution_count": 1,
   "id": "c8f69c13",
   "metadata": {},
   "outputs": [],
   "source": [
    "import yfinance as yf\n",
    "import mplfinance as mpf"
   ]
  },
  {
   "cell_type": "code",
   "execution_count": 2,
   "id": "e29baab9",
   "metadata": {},
   "outputs": [],
   "source": [
    "ticker = \"TSLA\""
   ]
  },
  {
   "cell_type": "code",
   "execution_count": 3,
   "id": "99e5a759",
   "metadata": {},
   "outputs": [],
   "source": [
    "history = yf.Ticker(ticker).history(period=\"3mo\")"
   ]
  },
  {
   "cell_type": "code",
   "execution_count": 4,
   "id": "b0ef4828",
   "metadata": {},
   "outputs": [
    {
     "name": "stdout",
     "output_type": "stream",
     "text": [
      "3 months low: 620\n",
      "3 months high: 1152\n"
     ]
    }
   ],
   "source": [
    "print(f\"3 months low: {history.Low.min().astype(int)}\")\n",
    "print(f\"3 months high: {history.High.max().astype(int)}\")"
   ]
  },
  {
   "cell_type": "code",
   "execution_count": 5,
   "id": "40bccb4d",
   "metadata": {},
   "outputs": [
    {
     "data": {
      "text/html": [
       "<div>\n",
       "<style scoped>\n",
       "    .dataframe tbody tr th:only-of-type {\n",
       "        vertical-align: middle;\n",
       "    }\n",
       "\n",
       "    .dataframe tbody tr th {\n",
       "        vertical-align: top;\n",
       "    }\n",
       "\n",
       "    .dataframe thead th {\n",
       "        text-align: right;\n",
       "    }\n",
       "</style>\n",
       "<table border=\"1\" class=\"dataframe\">\n",
       "  <thead>\n",
       "    <tr style=\"text-align: right;\">\n",
       "      <th></th>\n",
       "      <th>Open</th>\n",
       "      <th>High</th>\n",
       "      <th>Low</th>\n",
       "      <th>Close</th>\n",
       "      <th>Volume</th>\n",
       "      <th>Dividends</th>\n",
       "      <th>Stock Splits</th>\n",
       "    </tr>\n",
       "    <tr>\n",
       "      <th>Date</th>\n",
       "      <th></th>\n",
       "      <th></th>\n",
       "      <th></th>\n",
       "      <th></th>\n",
       "      <th></th>\n",
       "      <th></th>\n",
       "      <th></th>\n",
       "    </tr>\n",
       "  </thead>\n",
       "  <tbody>\n",
       "    <tr>\n",
       "      <th>2022-06-17</th>\n",
       "      <td>640.299988</td>\n",
       "      <td>662.909973</td>\n",
       "      <td>639.590027</td>\n",
       "      <td>650.280029</td>\n",
       "      <td>30810900</td>\n",
       "      <td>0</td>\n",
       "      <td>0</td>\n",
       "    </tr>\n",
       "    <tr>\n",
       "      <th>2022-06-21</th>\n",
       "      <td>673.809998</td>\n",
       "      <td>730.729980</td>\n",
       "      <td>673.000000</td>\n",
       "      <td>711.109985</td>\n",
       "      <td>40931000</td>\n",
       "      <td>0</td>\n",
       "      <td>0</td>\n",
       "    </tr>\n",
       "    <tr>\n",
       "      <th>2022-06-22</th>\n",
       "      <td>703.510010</td>\n",
       "      <td>740.500000</td>\n",
       "      <td>701.479980</td>\n",
       "      <td>708.260010</td>\n",
       "      <td>33702500</td>\n",
       "      <td>0</td>\n",
       "      <td>0</td>\n",
       "    </tr>\n",
       "    <tr>\n",
       "      <th>2022-06-23</th>\n",
       "      <td>713.719971</td>\n",
       "      <td>717.950012</td>\n",
       "      <td>685.909973</td>\n",
       "      <td>705.210022</td>\n",
       "      <td>34734200</td>\n",
       "      <td>0</td>\n",
       "      <td>0</td>\n",
       "    </tr>\n",
       "    <tr>\n",
       "      <th>2022-06-24</th>\n",
       "      <td>712.409973</td>\n",
       "      <td>738.200012</td>\n",
       "      <td>708.260010</td>\n",
       "      <td>737.119995</td>\n",
       "      <td>31866500</td>\n",
       "      <td>0</td>\n",
       "      <td>0</td>\n",
       "    </tr>\n",
       "  </tbody>\n",
       "</table>\n",
       "</div>"
      ],
      "text/plain": [
       "                  Open        High         Low       Close    Volume  \\\n",
       "Date                                                                   \n",
       "2022-06-17  640.299988  662.909973  639.590027  650.280029  30810900   \n",
       "2022-06-21  673.809998  730.729980  673.000000  711.109985  40931000   \n",
       "2022-06-22  703.510010  740.500000  701.479980  708.260010  33702500   \n",
       "2022-06-23  713.719971  717.950012  685.909973  705.210022  34734200   \n",
       "2022-06-24  712.409973  738.200012  708.260010  737.119995  31866500   \n",
       "\n",
       "            Dividends  Stock Splits  \n",
       "Date                                 \n",
       "2022-06-17          0             0  \n",
       "2022-06-21          0             0  \n",
       "2022-06-22          0             0  \n",
       "2022-06-23          0             0  \n",
       "2022-06-24          0             0  "
      ]
     },
     "execution_count": 5,
     "metadata": {},
     "output_type": "execute_result"
    }
   ],
   "source": [
    "history.tail()"
   ]
  },
  {
   "cell_type": "code",
   "execution_count": 6,
   "id": "1096e186",
   "metadata": {},
   "outputs": [
    {
     "data": {
      "image/png": "[encoded data removed]",
      "text/plain": [
       "<Figure size 745.2x414 with 2 Axes>"
      ]
     },
     "metadata": {
      "needs_background": "light"
     },
     "output_type": "display_data"
    }
   ],
   "source": [
    "mpf.plot(history, type='candle', mav=(7),figratio=(18,10))"
   ]
  },
  {
   "cell_type": "code",
   "execution_count": null,
   "id": "e11c99a7",
   "metadata": {},
   "outputs": [],
   "source": []
  }
 ],
 "metadata": {
  "kernelspec": {
   "display_name": "djenv",
   "language": "python",
   "name": "djenv"
  },
  "language_info": {
   "codemirror_mode": {
    "name": "ipython",
    "version": 3
   },
   "file_extension": ".py",
   "mimetype": "text/x-python",
   "name": "python",
   "nbconvert_exporter": "python",
   "pygments_lexer": "ipython3",
   "version": "3.9.5"
  }
 },
 "nbformat": 4,
 "nbformat_minor": 5
}
